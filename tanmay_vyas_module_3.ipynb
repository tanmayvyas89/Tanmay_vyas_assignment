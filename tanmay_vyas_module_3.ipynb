{
 "cells": [
  {
   "cell_type": "code",
   "execution_count": null,
   "id": "6e5cf50a",
   "metadata": {},
   "outputs": [],
   "source": [
    "#(1) What is List? How will you reverse a list?\n",
    "#->List is datatype to store multiple values & datatypes\n",
    "list1=[1,2,3,4,5]\n",
    "list1.reverse()\n",
    "print(list1)\n",
    "\n",
    "\n",
    "list1[:-1]\n",
    "print(list1)"
   ]
  },
  {
   "cell_type": "code",
   "execution_count": null,
   "id": "c15f4811",
   "metadata": {},
   "outputs": [],
   "source": [
    "#(2)How will you remove last object from a list?\n",
    "list1=[1,2,3,4,5]\n",
    "list1.pop()\n",
    "print(list1)\n",
    "\n",
    "print(list1[-1])\n"
   ]
  },
  {
   "cell_type": "code",
   "execution_count": null,
   "id": "a21f9220",
   "metadata": {},
   "outputs": [],
   "source": [
    "#(3) Suppose list1 is [2, 33, 222, 14, and 25], what is list1 [-1]?\n",
    "list1=[2,33,222,14,25]\n",
    "print(list1[-1])"
   ]
  },
  {
   "cell_type": "code",
   "execution_count": null,
   "id": "02b65cfc",
   "metadata": {},
   "outputs": [],
   "source": [
    "#(4) Differentiate between append () and extend () methods?\n",
    "list1=[1,2,3,4,5,6,7,8,9]\n",
    "list2=[9,8,7,6,5,4,3,2,1]\n",
    "\n",
    "list1.append('lion') # use as element\n",
    "print(list1)\n",
    "\n",
    "list2.extend('lion') # use as iterables single element\n",
    "print(list2)"
   ]
  },
  {
   "cell_type": "code",
   "execution_count": null,
   "id": "fdd68383",
   "metadata": {},
   "outputs": [],
   "source": [
    "#(5) Write a Python function to get the largest number, smallest num and sum of all from a list.\n",
    "\n",
    "list1=[23,43,4,4,4,4,8,5,7,8,8,8,10,65,44]\n",
    "s1=set(list1)\n",
    "list1=list(s1)\n",
    "list1.sort()\n",
    "print(list1[0],'is smallest')\n",
    "print(list1[-1],'is largest')\n",
    "for i in list1:\n",
    "    i+=i\n",
    "print(i)\n",
    "\n",
    "\n",
    "\n",
    "print('largest number',max(list1))\n",
    "print('smalest number',min(list1))\n",
    "sum1=sum(list1)\n",
    "print(sum1)"
   ]
  },
  {
   "cell_type": "code",
   "execution_count": null,
   "id": "9cbbdd79",
   "metadata": {},
   "outputs": [],
   "source": [
    "#(7) Write a Python program to count the number of strings where the string length is 2 or more  \n",
    "# and the first and last character are same from a given list of strings.\n",
    "\n",
    "list1 = input('enter list')\n",
    "list1 = list1.split(' ')\n",
    "print('Original list :- ',list1)\n",
    "count = 0\n",
    "for element in list1: # element = tanmat\n",
    "    if len(element)>=2 and element[0]==element[-1]:\n",
    "        count = count + 1\n",
    "print('number of string that satisfies the above condition is/are :- ',count)\n"
   ]
  },
  {
   "cell_type": "code",
   "execution_count": null,
   "id": "5eafb70c",
   "metadata": {},
   "outputs": [],
   "source": [
    "#(8) Write a Python program to remove duplicates from a list.\n",
    "list1=input()\n",
    "s1=set(list1)\n",
    "print(s1)"
   ]
  },
  {
   "cell_type": "code",
   "execution_count": null,
   "id": "2b294417",
   "metadata": {},
   "outputs": [],
   "source": [
    "#(9)Write a Python program to check a list is empty or not.\n",
    "list1 = list(input())\n",
    "if len(list1)==0:\n",
    "    print('list is empty')\n",
    "else:\n",
    "    print('list is not empty')\n",
    "    print(len(list1),'elements available')"
   ]
  },
  {
   "cell_type": "code",
   "execution_count": null,
   "id": "701297df",
   "metadata": {},
   "outputs": [],
   "source": [
    "#(10) Write a Python function that takes two lists and \n",
    "#returns true if they have at least one common member.\n",
    "list1=[1,2,3,4,5,6]\n",
    "list2=[7,8,9,10,11]\n",
    "def common_member(list1,list2):\n",
    "    for i in list1:\n",
    "        for j in list2:\n",
    "            if i==j:\n",
    "                result=True\n",
    "print(common_member(list1,list2))"
   ]
  },
  {
   "cell_type": "code",
   "execution_count": null,
   "id": "bddae361",
   "metadata": {},
   "outputs": [],
   "source": [
    "# (11)Write a Python program to generate and print a list of first and last 5 elements\n",
    "# where the values are square of numbers between 1 and 30.\n",
    "list1=[]\n",
    "for i in range(1,31):\n",
    "    list1=list1+[i*i]\n",
    "list2=list1[:5] + list1[-5:]\n",
    "print(list2)"
   ]
  },
  {
   "cell_type": "code",
   "execution_count": null,
   "id": "6ee0a911",
   "metadata": {},
   "outputs": [],
   "source": [
    "#(12)Write a Python function that takes a list and \n",
    "# returns a new list with unique elements of the first list.\n",
    "list1=[1,2,3,5,5,8,6,3,1,2,5,4,6,3,2,1,4,5,2]\n",
    "def unic_list(list1):\n",
    "    list2=[]\n",
    "    for i in list1:\n",
    "        if i not in list2:\n",
    "            list2.append(i)\n",
    "    return list2\n",
    "unic_list(list1)"
   ]
  },
  {
   "cell_type": "code",
   "execution_count": null,
   "id": "18a7634d",
   "metadata": {},
   "outputs": [],
   "source": [
    "#(13) Write a Python program to convert a list of characters into a string.\n",
    "list1=['1','2','3','4','5']\n",
    "str1 = ''\n",
    "for i in list1:\n",
    "    str(i) \n",
    "    str1 = str1 + i\n",
    "print(str1)\n"
   ]
  },
  {
   "cell_type": "code",
   "execution_count": null,
   "id": "f74dab04",
   "metadata": {},
   "outputs": [],
   "source": [
    "# #(14) Write a Python program to select an item randomly from a list.\n",
    "list1=[(1,2,3,6,5),8,7,6,5,4,3,2,1,'python','lion',\"devloper\"]\n",
    "s1=set(list1)\n",
    "for i in s1:\n",
    "    print(i)\n",
    "    "
   ]
  },
  {
   "cell_type": "code",
   "execution_count": null,
   "id": "d62f2205",
   "metadata": {},
   "outputs": [],
   "source": [
    "#(15)Write a Python program to find the second smallest & second largest number in a list.\n",
    "list1=[1,2,5,6,6,6,6,2,2,2,2,1,1,10,1,9,8,7,8,8,5,5,5,9,9,9,9,20,19,80,66,0]\n",
    "s1=set(list1)\n",
    "list1=list(s1)\n",
    "list1.sort()\n",
    "print(list1)\n",
    "print(list1[1], 'is second smallest number')\n",
    "print(list1[-2], 'is second largest  number')\n"
   ]
  },
  {
   "cell_type": "code",
   "execution_count": null,
   "id": "ffb1891a",
   "metadata": {},
   "outputs": [],
   "source": [
    "#(16) Write a Python program to get unique values from a list\n",
    "list1=[1,2,3,4,4,5,5,6,6,7,7,8,9,9,9,1,1,0,0,2,2,1,1,4,4,5,6,6]\n",
    "s1=set(list1)\n",
    "list1=list(s1)\n",
    "print('all the unique values are',list1)"
   ]
  },
  {
   "cell_type": "code",
   "execution_count": null,
   "id": "c9d1f0f5",
   "metadata": {},
   "outputs": [],
   "source": [
    "#(17) Write a Python program to check whether a list contains a sub list\n",
    "list1=input('enter main list')\n",
    "sub_list=input('enter sub list')\n",
    "sub_idx=list1.index(sub_list[0])\n",
    "if list1[sub_idx:sub_idx+len(sub_list)]==sub_list:\n",
    "    print(\"yes it's contains sub list\")\n",
    "else:\n",
    "    print('not sub list contains')"
   ]
  },
  {
   "cell_type": "code",
   "execution_count": null,
   "id": "1d625956",
   "metadata": {},
   "outputs": [],
   "source": [
    "#(18) Write a Python program to split a list into different variables.\n",
    "list1=[[1,2,3,4,5],55,(5,30,698,789),{52,369,147},'boa vs python',{'boa':'python','ironman':3000}]\n",
    "len(list1)\n",
    "l1,l2,l3,l4,l5,l6=list1\n",
    "print(l5)\n",
    "print(l3)"
   ]
  },
  {
   "cell_type": "code",
   "execution_count": null,
   "id": "5d3877ab",
   "metadata": {},
   "outputs": [],
   "source": [
    "# (19) What is tuple? Difference between list and tuple.\n",
    "-> tuple is one of the collection type datatype. \n",
    "-> list is mutable and tuple is immutable these is major diffrence."
   ]
  },
  {
   "cell_type": "code",
   "execution_count": null,
   "id": "aec55fe0",
   "metadata": {},
   "outputs": [],
   "source": [
    "#(20) Write a Python program to create a tuple with different data types.\n",
    "list1=[1,2,3,20.33,'lion',[1,2,3],(1,2,3,4,5),{1,2,3,4,5},{15:10,'tiger':5,140:33}]\n",
    "tuple1=tuple(list1)\n",
    "print(tuple1)\n",
    "\n"
   ]
  },
  {
   "cell_type": "code",
   "execution_count": null,
   "id": "c852ba91",
   "metadata": {},
   "outputs": [],
   "source": [
    "#(21) Write a Python program to create a tuple with numbers.\n",
    "t1=10,12,15,820,256,325\n",
    "print(t1)\n",
    "print(type(t1))"
   ]
  },
  {
   "cell_type": "code",
   "execution_count": null,
   "id": "a8a3187d",
   "metadata": {},
   "outputs": [],
   "source": [
    "#(22) Write a Python program to convert a tuple to a string.\n",
    "list1=[1,2,3,3.3,65,'python',[5,4,3,22],{589,145,2},{'hello':56,'world war z':'brad pit'}]\n",
    "t1=tuple(list1)\n",
    "str1=str(t1)\n",
    "print(str1)\n",
    "print(type(str1))\n"
   ]
  },
  {
   "cell_type": "code",
   "execution_count": null,
   "id": "745ff3da",
   "metadata": {},
   "outputs": [],
   "source": [
    "# (23) Write a Python program to check whether an element exists within a tuple.\n",
    "tuple1=(1,2,3,4,'pubg','god of war')\n",
    "print(7 in tuple1)"
   ]
  },
  {
   "cell_type": "code",
   "execution_count": null,
   "id": "ce5b887d",
   "metadata": {},
   "outputs": [],
   "source": [
    "# (24) Write a Python program to find the length of a tuple.\n",
    "tuple1=(1,2,3,5.6,'python',[5,8,9,6,3.1],{58,4566,254,12,777},{15:'hero',45:'ace'})\n",
    "print('length of tuple1 is',len(tuple1))\n"
   ]
  },
  {
   "cell_type": "code",
   "execution_count": null,
   "id": "94d747e3",
   "metadata": {},
   "outputs": [],
   "source": [
    "# (25) Write a Python program to convert a list to a tuple.\n",
    "list1=[1,2,3,3.3,65,'python',[5,4,3,22],{589,145,2},{'hello':56,'world war z':'brad pit'}]\n",
    "tuple1=tuple(list1)\n",
    "print(tuple1)\n",
    "print(type(tuple1))"
   ]
  },
  {
   "cell_type": "code",
   "execution_count": null,
   "id": "87158176",
   "metadata": {},
   "outputs": [],
   "source": [
    "#(26) Write a Python program to reverse a tuple.\n",
    "tuple1=(1,2,3,[5,6,'mike',4563],3.3,('tyson',5,3.6),65,'python',[5,4,3,22],{589,145,2},{'hello':56,'world war z':'brad pit'})\n",
    "# tuple1=(1,2,3,4,5,6,7)\n",
    "list1=list(tuple1)\n",
    "print(list1)\n",
    "print(type(list1))\n",
    "\n",
    "list1.reverse()\n",
    "print(list1)\n",
    "\n",
    "t1=tuple(list1)\n",
    "print(t1)\n",
    "\n",
    "print(type(t1))"
   ]
  },
  {
   "cell_type": "code",
   "execution_count": null,
   "id": "bbdabec4",
   "metadata": {},
   "outputs": [],
   "source": [
    "# (27) Write a Python program to replace last value of tuples in a list.\n",
    "\n",
    "tuple1=(1,2,3,4,5)\n",
    "list1=list(tuple1)\n",
    "t1='python'\n",
    "list1.pop()\n",
    "list1.append(t1)\n",
    "print(list1)\n"
   ]
  },
  {
   "cell_type": "code",
   "execution_count": null,
   "id": "9a51c707",
   "metadata": {},
   "outputs": [],
   "source": [
    "# (28) Write a Python program to find the repeated items of a tuple.\n",
    "tuple1=(1,2,3,4,5,6,6,5,4,3,2,1,4,5,6,1,2,3,6,5,4,5,2,3,3)\n",
    "print(tuple1.count(5))"
   ]
  },
  {
   "cell_type": "code",
   "execution_count": null,
   "id": "dcb6ab78",
   "metadata": {},
   "outputs": [],
   "source": [
    "# # (29) Write a Python program to remove an empty tuple(s) from a list of tuples.\n",
    "tuple1=(1,2,(),3,3.3,(5,6,9,8,7),(),{5,6,9,8,7},(),{52:63,'python':66})\n",
    "val1=[t for t in tuple1 if t]\n",
    "print(val1)"
   ]
  },
  {
   "cell_type": "code",
   "execution_count": null,
   "id": "7db51eb3",
   "metadata": {},
   "outputs": [],
   "source": [
    "# (30) Write a Python program to unzip a list of tuples into individual lists.\n",
    "list1=[1,2,3,4,'python',(68,698,365,526,21),{12,56,10,32},{'wild one':'florida',15:'dell'}]\n",
    "# print(len(list1))\n",
    "t1,t2,t3,t4,t5,t6,t7,t8=list1\n",
    "print([t1])\n",
    "print([t2])\n",
    "print([t3])\n",
    "print([t4])\n",
    "print([t5])\n",
    "print([t6])\n",
    "print([t7])\n",
    "print([t8])\n"
   ]
  },
  {
   "cell_type": "code",
   "execution_count": null,
   "id": "1e01ad6a",
   "metadata": {},
   "outputs": [],
   "source": [
    "# (31) Write a Python program to convert a list of tuples into a dictionary.\n",
    "list1=[(1,'python'),(2,'hello'),(3,'world'),(4,'devloper')]\n",
    "dict1=dict(list1)\n",
    "print(dict1)"
   ]
  },
  {
   "cell_type": "code",
   "execution_count": null,
   "id": "59ccca19",
   "metadata": {},
   "outputs": [],
   "source": [
    "# (32) How will you create a dictionary using tuples in python?\n",
    "tuple1 = ((1,'python'),(2,'hello'),(3,'world'),(4,'devloper'))\n",
    "tuple1 = list(tuple1)\n",
    "n = {}\n",
    "n.update(tuple1)\n",
    "tuple1 = n.copy()\n",
    "print(tuple1)\n"
   ]
  },
  {
   "cell_type": "code",
   "execution_count": null,
   "id": "fb79f420",
   "metadata": {},
   "outputs": [],
   "source": [
    "# (33) Write a Python script to sort (ascending and descending) a dictionary by value.\n",
    "dict1={25:'python',55:'crocodile',69:'anaconda',99:'shakira waka waka',1:'pitbull',12:'akon'}\n",
    "dict2=sorted(dict1.items())\n",
    "print(dict2)\n",
    "\n"
   ]
  },
  {
   "cell_type": "code",
   "execution_count": null,
   "id": "5af70b76",
   "metadata": {},
   "outputs": [],
   "source": [
    "# (34) Write a Python script to concatenate following dictionaries to create a new one.\n",
    "dict1={1:'hello',5:'world'}\n",
    "dict2={45:'extra',2:'dance'}\n",
    "dict3={}\n",
    "for i in (dict1,dict2):\n",
    "    dict3.update(i)\n",
    "print(dict3)"
   ]
  },
  {
   "cell_type": "code",
   "execution_count": null,
   "id": "78a28266",
   "metadata": {},
   "outputs": [],
   "source": [
    "# (35) Write a Python script to check if a given key already exists in a dictionary.\n",
    "dict1={'axe':'python','java':'extra','boa':'python','fast':'furious'}\n",
    "dict_key=input()\n",
    "if dict_key in dict1 :\n",
    "    print('key exits')\n",
    "else:\n",
    "    print('key not exists')\n"
   ]
  },
  {
   "cell_type": "code",
   "execution_count": null,
   "id": "5202180a",
   "metadata": {},
   "outputs": [],
   "source": [
    "# (36) How Do You Traverse Through A Dictionary Object In Python?\n",
    "dict1={'name':'tanmay','age':'25','position':'python devloper','salary':'100k'}\n",
    "for key,value in dict1.items():\n",
    "    print(key,value)"
   ]
  },
  {
   "cell_type": "code",
   "execution_count": null,
   "id": "1f060a3f",
   "metadata": {},
   "outputs": [],
   "source": [
    "# (37) How Do You Check The Presence Of A Key In A Dictionary?\n",
    "dict1={1:'python',2:'martin',3:'animals',4:'jack',5:'jocker'}\n",
    "dict_key=int(input('enter the key '))\n",
    "\n",
    "if dict_key in dict1:\n",
    "    print('key present in dict1.' , 'key is ', dict_key , '&' , 'value is',dict1[dict_key])\n",
    "else:\n",
    "    print('key not present')"
   ]
  },
  {
   "cell_type": "code",
   "execution_count": null,
   "id": "2eff5857",
   "metadata": {},
   "outputs": [],
   "source": [
    "#(38) Write a Python script to print a dictionary where the keys are numbers between 1 and 15.\n",
    "dict1=dict()\n",
    "for i in range(1,16):\n",
    "    dict1[i]=i*i\n",
    "print(dict1)\n"
   ]
  },
  {
   "cell_type": "code",
   "execution_count": null,
   "id": "8eb0a6b6",
   "metadata": {},
   "outputs": [],
   "source": [
    "#(39) Write a Python program to check multiple keys exists in a dictionary\n",
    "dict1={1:'a',2:'b',3:'c',4:'d',5:'e',1 :'alpha',3:'beta',5:'gama'}\n",
    "dict2=dict1.keys()\n",
    "if dict2>=dict1.keys():\n",
    "    print('true')\n",
    "else:\n",
    "    print('false')"
   ]
  },
  {
   "cell_type": "code",
   "execution_count": null,
   "id": "e8b0d3d3",
   "metadata": {},
   "outputs": [],
   "source": [
    "# (40) Write a Python script to merge two Python dictionaries\n",
    "dict1={1:'a',2:'b',3:'c',4:'d',5:'e',1 :'alpha',3:'beta',5:'gama'}\n",
    "dict2={'jack':'jeel','avengers':'endgame',5:'rain',80:'snow'}\n",
    "dict3=dict1.copy()\n",
    "dict3.update(dict2)\n",
    "print(dict3)"
   ]
  },
  {
   "cell_type": "code",
   "execution_count": null,
   "id": "3a467dd0",
   "metadata": {},
   "outputs": [],
   "source": [
    "# (41) Write a Python program to map two lists into a dictionary\n",
    "list1=['hello','world','python','devloper']\n",
    "list2=[2,4,6,8]\n",
    "dict1={}\n",
    "for i in range(len(list2)):\n",
    "    dict1.setdefault(list2[i],list1[i])\n",
    "print(dict1)"
   ]
  },
  {
   "cell_type": "code",
   "execution_count": null,
   "id": "7e6e17ee",
   "metadata": {},
   "outputs": [],
   "source": [
    "# # (42) Write a Python program to combine two dictionary adding values for common keys.\n",
    "# Sample output: Counter ({'a': 400, 'b': 400,’d’: 400, 'c': 300}).\n",
    "d1 = {'a': 100, 'b': 200, 'c':300}\n",
    "d2 = {'a': 300, 'b': 200, 'd':400}\n",
    "d3=set(d1.copy())\n",
    "d3.union(d2)\n",
    "\n",
    "print(d3)"
   ]
  },
  {
   "cell_type": "code",
   "execution_count": null,
   "id": "62b91ca6",
   "metadata": {},
   "outputs": [],
   "source": [
    "# (43) Write a Python program to print all unique values in a dictionary.\n",
    "dict1={'a':10,'b':15,'c':10,'d':66,'e':22,'f':15,'tanmay':66,'vishwa':10}\n",
    "list1=list(dict1.values())\n",
    "unique_value=set(list1)\n",
    "print(unique_value)\n"
   ]
  },
  {
   "cell_type": "code",
   "execution_count": null,
   "id": "3b3d601f",
   "metadata": {},
   "outputs": [],
   "source": [
    "# (44) Why Do You Use the Zip () Method in Python?\n",
    "# -> when we merge 2 list then we use zip method \n",
    "# -> zip method convert in tuple."
   ]
  },
  {
   "cell_type": "code",
   "execution_count": null,
   "id": "6d1c5a43",
   "metadata": {},
   "outputs": [],
   "source": [
    "# # (45) Write a Python program to create and display all combinations of letters, \n",
    "# selecting each letter from a different key in a dictionary.\n",
    "#  Expected Output:\n",
    "#  ac ad bc bd\n",
    "dict1={'1':['a','b'],'2':['c','d']}\n",
    "list1=list(dict1.values())\n",
    "print(list1)\n",
    "for i in list1:\n",
    "    list2=list1[0][0]+list1[1][0]\n",
    "    list3=list1[0][0]+list1[1][1]    \n",
    "    list4=list1[0][1]+list1[1][0]    \n",
    "    list5=list1[0][1]+list1[1][1]\n",
    "print(list2,list3,list4,list5)"
   ]
  },
  {
   "cell_type": "code",
   "execution_count": null,
   "id": "bc007920",
   "metadata": {},
   "outputs": [],
   "source": [
    "# (46) Write a Python program to find the highest 3 values in a dictionary\n",
    "\n",
    "dict1={'a':10,'b':15,'c':25,'d':66,'e':80,'f':13}\n",
    "list1=list(dict1.values())\n",
    "list1.sort()\n",
    "print(list1)\n",
    "print('first highest value is',list1[-1])\n",
    "print('first highest value is',list1[-2])\n",
    "print('first highest value is',list1[-3])"
   ]
  },
  {
   "cell_type": "code",
   "execution_count": null,
   "id": "130caa93",
   "metadata": {},
   "outputs": [],
   "source": [
    "# (47) Write a Python program to combine values in python list of dictionaries. \n",
    "# Sample data: [{'item': 'item1', 'amount': 400}, {'item': 'item2', 'amount': 300},\n",
    "# o {'item': 'item1', 'amount': 750}]\n",
    "# o Expected Output: Counter ({'item1': 1150, 'item2': 300})\n",
    "from collections import Counter\n",
    "list1=[{'item': 'item1', 'amount': 400}, {'item': 'item2', 'amount': 300},{'item': 'item1', 'amount': 750}]    \n",
    "result=Counter()\n",
    "\n",
    "for i in list1:\n",
    "    result[i['item']]+= i['amount']\n",
    "print(result)"
   ]
  },
  {
   "cell_type": "code",
   "execution_count": null,
   "id": "e07663a8",
   "metadata": {},
   "outputs": [],
   "source": [
    "# # (48)Write a Python program to create a dictionary from a string.\n",
    "# o Note: Track the count of the letters from the string. Sample string: 'w3resource'\n",
    "# o Expected output: {'3': 1,’s’: 1, 'r': 2, 'u': 1, 'w': 1, 'c': 1, 'e': 2, 'o': 1}\n",
    "str1='w3resource'\n",
    "d1=dict.fromkeys(str1,1)\n",
    "print(d1)\n",
    "for i in d1:\n",
    "    d1[i]=str1.count(i)\n",
    "print(d1)"
   ]
  },
  {
   "cell_type": "code",
   "execution_count": null,
   "id": "dc8058ee",
   "metadata": {},
   "outputs": [],
   "source": [
    "#(49) Write a Python function to calculate the factorial of a number (a non-negative integer)\n",
    "\n",
    "def fact1(num):\n",
    "    if num>1:\n",
    "        return num*fact1(num-1)\n",
    "    else:\n",
    "        return num\n",
    "y=fact1(5)    \n",
    "print('factorial is', y )"
   ]
  },
  {
   "cell_type": "code",
   "execution_count": null,
   "id": "934cb2bb",
   "metadata": {},
   "outputs": [],
   "source": [
    "#(50) Write a Python function to check whether a number is in a given range            \n",
    "def find_num(rng,num):\n",
    "    if num in rgn:\n",
    "        print(num,'in range')\n",
    "    else:\n",
    "        print(num,'not in range')\n",
    "\n",
    "start = int(input('enter start point of the range : '))\n",
    "stop = int(input('enter end point of the range : '))\n",
    "number = int(input('enter the number to be checked : '))\n",
    "if start > stop :\n",
    "    rgn = range(start,stop+1,-1)\n",
    "else:\n",
    "    rgn = range(start,stop+1)\n",
    "    \n",
    "find_num(rgn,num = number)"
   ]
  },
  {
   "cell_type": "code",
   "execution_count": null,
   "id": "7a8b2667",
   "metadata": {},
   "outputs": [],
   "source": [
    "#(51) Write a Python function to check whether a number is perfect or not.\n",
    "def perfect_number(num,summ):\n",
    "    for i in range(1,num):\n",
    "        if num % i == 0:\n",
    "            summ += i\n",
    "    if summ == num:\n",
    "        print(num,'is a perfect number')\n",
    "    else:\n",
    "        print(num,'is not a perfect number')\n",
    "\n",
    "num = int(input('enter number : '))\n",
    "perfect_number(num,0)\n",
    " "
   ]
  },
  {
   "cell_type": "code",
   "execution_count": null,
   "id": "7ad1ba58",
   "metadata": {},
   "outputs": [],
   "source": [
    "#(52)Write a Python function that checks whether a passed string is palindrome or not\n",
    "def palindrome(string):\n",
    "    if string == string[len(string)::-1]:\n",
    "        print(string,'is a palindrome string')\n",
    "    else:\n",
    "        print(string,'is not a palindrome string')\n",
    "\n",
    "string = input('enter a string :- ')    \n",
    "palindrome(string)"
   ]
  },
  {
   "cell_type": "code",
   "execution_count": null,
   "id": "ee262dd4",
   "metadata": {},
   "outputs": [],
   "source": [
    "#(53)How do you perform pattern matching in Python? Explain"
   ]
  },
  {
   "cell_type": "code",
   "execution_count": null,
   "id": "3c6c486d",
   "metadata": {},
   "outputs": [],
   "source": [
    "#(54)What is lambda function in python? What we call a function which is incomplete version of a function?\n",
    "lambda function is anonymous function\n",
    "lambda function is handy and short\n",
    "use for single exprssion only"
   ]
  },
  {
   "cell_type": "code",
   "execution_count": null,
   "id": "64299464",
   "metadata": {},
   "outputs": [],
   "source": [
    "#(55)How Many Basic Types Of Functions Are Available In Python?\n",
    "3 types of basic function in python:-\n",
    "    1->built in function or pre define function\n",
    "    2->user define function\n",
    "    3->anonomus function"
   ]
  },
  {
   "cell_type": "code",
   "execution_count": null,
   "id": "7824219e",
   "metadata": {},
   "outputs": [],
   "source": [
    "#(56)How can you pick a random item from a list or tuple?\n",
    "#In Python, you can randomly sample elements from a list with choice() , sample() , and choices()\n",
    "# of the random module. These functions can also be applied to a string and tuple. choice() returns\n",
    "# one random element, and sample() and choices() return a list of multiple random elements.\n",
    "\n",
    "list1=[1,2,3,4,5,6,7,8,9]\n",
    "import random \n",
    "l1=random.choice(list1)\n",
    "f'your random number is {l1}'"
   ]
  },
  {
   "cell_type": "code",
   "execution_count": null,
   "id": "ce09ed0f",
   "metadata": {},
   "outputs": [],
   "source": [
    "#(57) How can you pick a random item from a range?\n",
    "import random\n",
    "l1=random.randrange(1,99)\n",
    "print('your random number is ',l1)"
   ]
  },
  {
   "cell_type": "code",
   "execution_count": null,
   "id": "7401e25c",
   "metadata": {},
   "outputs": [],
   "source": [
    "#(58)How can you get a random number in python?\n",
    "import random\n",
    "\n",
    "# The random() method in random module generates a float number between 0 and 1.\n",
    "n = random.random()\n",
    "print(n)\n",
    "\n",
    "# The randint() method generates a integer between a given range of numbers.\n",
    "m = random.randint(1,99)\n",
    "print(m)\n",
    "\n",
    "# Using random.sample()\n",
    "# We can also use the sample() method available in random module to directly generate a list of\n",
    "# random numbers.Here we specify a range and give how many random numbers we need to generate.\n",
    "\n",
    "random_list = random.sample(range(10,1000),3) # generating list of 5 random numbers between 10 to 1000\n",
    "print(random_list)\n",
    "\n"
   ]
  },
  {
   "cell_type": "code",
   "execution_count": null,
   "id": "2272b215",
   "metadata": {},
   "outputs": [],
   "source": [
    "#(59)How will you set the starting value in generating random numbers?\n",
    "#The random number generator needs a number to start with (a seed value), to be able to generate a \n",
    "# random number. By default the random number generator uses the current system time. Use the seed()\n",
    "# method to customize the start number of the random number generator.\n"
   ]
  },
  {
   "cell_type": "code",
   "execution_count": null,
   "id": "5c9a3838",
   "metadata": {},
   "outputs": [],
   "source": [
    "#(60)How will you randomizes the items of a list in place?\n",
    "list1=[1,2,3,4,5,6,7,8,9]\n",
    "import random\n",
    "random.shuffle(list1)\n",
    "print('randomizes item list is ',list1)"
   ]
  },
  {
   "cell_type": "code",
   "execution_count": null,
   "id": "6fefc859",
   "metadata": {},
   "outputs": [],
   "source": [
    "#(61) Write a Python program to read a random line from a file.\n",
    "# file1=open('new.txt','x')\n",
    "# file1.close()\n",
    "import random\n",
    "def random_line(new):\n",
    "    file1=open('new.txt ','r').read().splitlines()\n",
    "    return random.choice(file1)\n",
    "print(random_line('new.txt'))"
   ]
  },
  {
   "cell_type": "code",
   "execution_count": null,
   "id": "89f1476d",
   "metadata": {},
   "outputs": [],
   "source": [
    "#(62)Write a Python program to convert degree to radian\n",
    "# 1° = 0.0174533 rad (from google)\n",
    "var1=lambda:deg * 0.0174533\n",
    "deg=int(input('enter degree '))\n",
    "print('Ans is ',var1())\n",
    "\n",
    "\n",
    "# # with function\n",
    "# def convert_to_rad(deg):\n",
    "#     print(deg,'degree =',deg * 0.0174533,'radian' )\n",
    "\n",
    "# degree = int(input('enter degree : '))\n",
    "# convert_to_rad(degree)\n"
   ]
  },
  {
   "cell_type": "code",
   "execution_count": null,
   "id": "1b6b8c0e",
   "metadata": {},
   "outputs": [],
   "source": [
    "#(63)Write a Python program to calculate the area of a trapezoid\n",
    "# A=(a+b/2)h\n",
    "# here, 'a' is upper base, 'b' is lower base, and 'h' is the height of the trapezoid\n",
    "area=lambda:(a+b)/2*h\n",
    "a = int(input('enter upper base a : '))\n",
    "b = int(input('enter lower base b : '))\n",
    "h = int(input('enter height h : '))\n",
    "print('area of trapezoid is ',area())\n",
    "\n",
    "\n",
    "\n",
    "\n",
    "# #with function\n",
    "# def area_of_trapezoid(a,b,h):\n",
    "#     print('Area of trapezoid =',trapezoid)\n",
    "\n",
    "# upper_base = int(input('enter upper base : '))\n",
    "# lower_base = int(input('enter lower base : '))\n",
    "# height = int(input('enter height : '))\n",
    "\n",
    "# area_of_trapezoid(upper_base,lower_base,height)\n"
   ]
  },
  {
   "cell_type": "code",
   "execution_count": null,
   "id": "21ad0b35",
   "metadata": {},
   "outputs": [],
   "source": [
    "#(64)Write a Python program to calculate the area of a parallelogram\n",
    "# A = b*h\n",
    "area=lambda:b*h\n",
    "b = int(input('enter base : '))\n",
    "h = int(input('enter height : '))\n",
    "\n",
    "print('area of paralelogram',area())\n",
    "\n",
    "\n",
    "# #with fumction\n",
    "# def area_of_parallelogram(b,h):\n",
    "#     print('area of parallelogram = ',b*h)\n",
    "\n",
    "# b = int(input('enter base : '))\n",
    "# h = int(input('enter height : '))\n",
    "\n",
    "# area_of_parallelogram(b,h)\n"
   ]
  },
  {
   "cell_type": "code",
   "execution_count": null,
   "id": "bb9c60eb",
   "metadata": {},
   "outputs": [],
   "source": [
    "#(65)Write a Python program to calculate surface volume and area of a cylinder\n",
    "# surface v=π*r*r*h\n",
    "# area of cylinder =2*π*r*h+2*π*r*r=2*π*r(h+r)\n",
    "π=3.14\n",
    "surface_volume=lambda: π*r*r*h\n",
    "r=int(input('enter radious: '))\n",
    "h=int(input('enter height : '))\n",
    "\n",
    "print('surface volume is',surface_volume())\n",
    "\n",
    "area_of_cylinder=lambda:2*π*r*(h+r)\n",
    "r=int(input('enter radious: '))\n",
    "h=int(input('enter height : '))\n",
    "\n",
    "print('area of cylinder is ',area_of_cylinder())\n",
    "\n",
    "\n",
    "# #with function\n",
    "# def surface_volume(r,h):\n",
    "#     print('surface volume =',3.14*r*r*h)\n",
    "# r=int(input('enter radious: '))\n",
    "# h=int(input('enter height : '))\n",
    "\n",
    "# surface_volume(r,h)"
   ]
  },
  {
   "cell_type": "code",
   "execution_count": null,
   "id": "bfe1f4d6",
   "metadata": {},
   "outputs": [],
   "source": [
    "#(66)Write a Python program to returns sum of all divisors of a number\n",
    "def sum_div(num):\n",
    "    divisors=[1]\n",
    "    for i in range(2,num):\n",
    "        if (num % i)==0:\n",
    "            divisors.append(i)\n",
    "    print('sum of divisors is',sum(divisors))\n",
    "num=int(input('enter the number '))\n",
    "sum_div(num)"
   ]
  },
  {
   "cell_type": "code",
   "execution_count": null,
   "id": "36a5260d",
   "metadata": {},
   "outputs": [],
   "source": [
    "#(67)Write a Python program to find the maximum and minimum numbers from the specified decimal numbers.\n",
    "list1=[1.1,102.6,0.3,2.1,3.1,4.2,9.2,22.5]\n",
    "print('maximum number is ',max(list1))\n",
    "print('minimum number is ',min(list1))\n"
   ]
  }
 ],
 "metadata": {
  "kernelspec": {
   "display_name": "Python 3 (ipykernel)",
   "language": "python",
   "name": "python3"
  },
  "language_info": {
   "codemirror_mode": {
    "name": "ipython",
    "version": 3
   },
   "file_extension": ".py",
   "mimetype": "text/x-python",
   "name": "python",
   "nbconvert_exporter": "python",
   "pygments_lexer": "ipython3",
   "version": "3.9.12"
  }
 },
 "nbformat": 4,
 "nbformat_minor": 5
}
