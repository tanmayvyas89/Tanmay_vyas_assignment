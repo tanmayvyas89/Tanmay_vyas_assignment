{
 "cells": [
  {
   "cell_type": "code",
   "execution_count": null,
   "id": "b90c42b3",
   "metadata": {},
   "outputs": [],
   "source": [
    "# (1) Write a Python program to check if a number is positive, negative or zero.\n",
    "\n",
    "a=int(input('please enter the value '))\n",
    "\n",
    "if a<0:\n",
    "    print('The number is negative')\n",
    "elif a>0:\n",
    "    print('The number is Positive')\n",
    "else:\n",
    "    print('The number is Zero')"
   ]
  },
  {
   "cell_type": "code",
   "execution_count": null,
   "id": "577a8967",
   "metadata": {},
   "outputs": [],
   "source": [
    "# #(2) Write a Python program to get the Factorial number of given number.\n",
    "\n",
    "a=int(input('enter the number'))\n",
    "fact=1\n",
    "\n",
    "for i in range(1,a+1):\n",
    "    \n",
    "    fact=fact*i\n",
    "\n",
    "print('factorial is',fact)\n",
    "\n"
   ]
  },
  {
   "cell_type": "code",
   "execution_count": null,
   "id": "e28626f6",
   "metadata": {},
   "outputs": [],
   "source": [
    "# # (3)Write a Python program to get the Fibonacci series of given range.\n",
    " \n",
    "limit = int(input())\n",
    "a=0\n",
    "b=1\n",
    "c=0\n",
    "for i in range(1,limit+1,1):\n",
    "    print(a,end=',')\n",
    "    c = a + b\n",
    "    a = b\n",
    "    b = c"
   ]
  },
  {
   "cell_type": "code",
   "execution_count": null,
   "id": "dff78ae4",
   "metadata": {},
   "outputs": [],
   "source": [
    "# #(4)How memory is managed in Python?\n",
    "    ->\n",
    "\n"
   ]
  },
  {
   "cell_type": "code",
   "execution_count": null,
   "id": "a607bccb",
   "metadata": {},
   "outputs": [],
   "source": [
    "# #(5) What is the purpose continue statement in python?\n",
    "    -> it will continue from the next element.\n"
   ]
  },
  {
   "cell_type": "code",
   "execution_count": null,
   "id": "c982e35e",
   "metadata": {},
   "outputs": [],
   "source": [
    "#(6) Write python program that swap two number with temp variable and without temp variable.\n",
    "a=5\n",
    "b=10\n",
    "\n",
    "temp=a\n",
    "a=b\n",
    "b=temp\n",
    "\n",
    "print(a)\n",
    "print(b)\n",
    "\n",
    "#without temp variable\n",
    "a=5\n",
    "b=10\n",
    "\n",
    "a,b=b,a\n",
    "print(a)\n",
    "print(b)\n"
   ]
  },
  {
   "cell_type": "code",
   "execution_count": null,
   "id": "3e6f091f",
   "metadata": {},
   "outputs": [],
   "source": [
    "#(7) Write a Python program to find whether a given number is even or odd, print out an appropriate message to the user.\n",
    "\n",
    "a=int(input('Please enter the number'))\n",
    "\n",
    "if a%2==0:\n",
    "    if a==0:\n",
    "        print('The number is zero')\n",
    "    else:\n",
    "        print('The number is even')\n",
    "else:\n",
    "    print('The number is odd') "
   ]
  },
  {
   "cell_type": "code",
   "execution_count": null,
   "id": "b807cde5",
   "metadata": {},
   "outputs": [],
   "source": [
    "#(8) Write a Python program to test whether a passed letter is a vowel or not\n",
    "\n",
    "\n",
    "a=input()\n",
    "if a=='A'or a=='E' or a=='I' or a=='O'or a=='U' or a=='a'or a=='e'or a=='i'or a=='o'or a=='u':\n",
    "    print('vowel')\n",
    "else:\n",
    "    print('Not vowel')"
   ]
  },
  {
   "cell_type": "code",
   "execution_count": null,
   "id": "e90342ab",
   "metadata": {},
   "outputs": [],
   "source": [
    "#(9) Write a Python program to sum of three given integers.\n",
    "# However, if two values are equal sum will be zero.\n",
    "\n",
    "a=int(input())\n",
    "b=int(input())\n",
    "c=int(input())\n",
    "sum=a+b+c\n",
    "if a==b or b==c or c==a:\n",
    "    print('addition is',(sum*0))\n",
    "else:\n",
    "    print('adition is',sum)"
   ]
  },
  {
   "cell_type": "code",
   "execution_count": null,
   "id": "d31b73e8",
   "metadata": {},
   "outputs": [],
   "source": [
    "#(10) Write a Python program that will return true if the two given integer values are equal \n",
    "# or their sum or difference is 5.\n",
    "\n",
    "a=int(input())\n",
    "b=int(input())\n",
    "\n",
    "if a==b or a+b==5 or a-b==5:\n",
    "    print(True)\n",
    "else:\n",
    "    print(False)"
   ]
  },
  {
   "cell_type": "code",
   "execution_count": null,
   "id": "f6eb7268",
   "metadata": {},
   "outputs": [],
   "source": [
    "#(11) Write a python program to sum of the first 5 positive integers.\n",
    "\n",
    "n=int(input())\n",
    "sum=0\n",
    "\n",
    "for n in range(n):\n",
    "    print(n)\n",
    "    sum=sum+n\n",
    "print('adition is',sum)"
   ]
  },
  {
   "cell_type": "code",
   "execution_count": null,
   "id": "025b765b",
   "metadata": {},
   "outputs": [],
   "source": [
    "#(12) Write a Python program to calculate the length of a string.\n",
    "a=input()\n",
    "\n",
    "len(a)"
   ]
  },
  {
   "cell_type": "code",
   "execution_count": null,
   "id": "862c7bb1",
   "metadata": {},
   "outputs": [],
   "source": [
    "#(13) Write a Python program to count the number of characters (character frequency) in a string\n",
    "\n",
    "a=input()\n",
    "num=''\n",
    "str=''\n",
    "for i in a:\n",
    "    if i==a:\n",
    "        num+=i\n",
    "    else:\n",
    "        str+=i\n",
    "len(str)"
   ]
  },
  {
   "cell_type": "code",
   "execution_count": null,
   "id": "54a39747",
   "metadata": {},
   "outputs": [],
   "source": [
    "# #(14) What are negative indexes and why are they used?\n",
    "    ->If we want to know the last charactor of the string4\n",
    "    insted of using (str.len) we use negative index a[-1].\n"
   ]
  },
  {
   "cell_type": "code",
   "execution_count": null,
   "id": "b9395fc3",
   "metadata": {},
   "outputs": [],
   "source": [
    "# #(15) Write a Python program to count occurrences of a substring in a string.\n",
    "str=input()\n",
    "\n",
    "print(str.count(' ')) # enter the letter which we want to count how many times in this string.\n"
   ]
  },
  {
   "cell_type": "code",
   "execution_count": null,
   "id": "3424bb00",
   "metadata": {},
   "outputs": [],
   "source": [
    "# #(16) Write a Python program to count the occurrences of each word in a given sentence\n",
    "\n",
    "str='''python is a high-level language,python is a interpreted language,\n",
    "# python is a general-purpose programming language.\n",
    "# python design philosophy emphasizes code readability with the use of significant indentation.\n",
    "# python is dynamically-typed and python is garbage-collected.'''\n",
    "\n",
    "print(str.count('python'))\n",
    "print(str.count('is'))\n"
   ]
  },
  {
   "cell_type": "code",
   "execution_count": null,
   "id": "8514b425",
   "metadata": {},
   "outputs": [],
   "source": [
    "# #(17)Write a Python program to get a single string from two given strings, \n",
    "# #  separated by a space and swap the first two characters of each string.\n",
    "\n",
    "str1 = input('Enter the string 1 ')\n",
    "str2 = input('Enter the string 2 ')\n",
    "space = ' '\n",
    "\n",
    "str3 = str1[1::-1] +str1[2:]+space\n",
    "str4 = str2[1::-1] +str2[2:]\n",
    "print(str3 + str4)"
   ]
  },
  {
   "cell_type": "code",
   "execution_count": null,
   "id": "f6a95982",
   "metadata": {},
   "outputs": [],
   "source": [
    "# #(18) Write a Python program to add 'ing' at the end of a given string (length should be at least 3).\n",
    "#If the given string already ends with 'ing' then add 'ly' \n",
    "#instead if the string length of the given string is less than 3,\n",
    "#leave it unchanged.\n",
    "\n",
    "str1=input()\n",
    "\n",
    "if len(str1)>3:\n",
    "    if str1.endswith('ing'):\n",
    "        print(str1+'ly')\n",
    "    else:\n",
    "        print(str1+'ing')\n",
    "else:\n",
    "    print('string length is less than 3 ')\n"
   ]
  },
  {
   "cell_type": "code",
   "execution_count": null,
   "id": "7d88160b",
   "metadata": {},
   "outputs": [],
   "source": [
    "# #(19) Write a Python program to find the first appearance of the substring 'not' and 'poor' \n",
    "# from a given string,if 'not' follows the 'poor',\n",
    "##replace the whole 'not'...'poor' substring with 'good'. Return the resulting string.\n",
    "\n",
    "str1=input()\n",
    "\n",
    "if str1.find('not')<str1.find('poor'):\n",
    "    str2= str1.replace(str1[str1.find('not'):str1.find('poor')+4],'good')\n",
    "    print(str2)"
   ]
  },
  {
   "cell_type": "code",
   "execution_count": null,
   "id": "8e29e62b",
   "metadata": {},
   "outputs": [],
   "source": [
    "#(22) Write a Python program to get a string made of the first 2 and\n",
    "#the last 2 chars from a given a string.\n",
    "#If the string length is less than 2, return instead of the empty string.\n",
    "\n",
    "str1=input()\n",
    "if len(str1)>=2:\n",
    "    str2=str1[0:2]+str1[-2:]\n",
    "    print(str2)\n",
    "else:\n",
    "    print('Empty string')"
   ]
  }
 ],
 "metadata": {
  "kernelspec": {
   "display_name": "Python 3 (ipykernel)",
   "language": "python",
   "name": "python3"
  },
  "language_info": {
   "codemirror_mode": {
    "name": "ipython",
    "version": 3
   },
   "file_extension": ".py",
   "mimetype": "text/x-python",
   "name": "python",
   "nbconvert_exporter": "python",
   "pygments_lexer": "ipython3",
   "version": "3.9.12"
  }
 },
 "nbformat": 4,
 "nbformat_minor": 5
}
