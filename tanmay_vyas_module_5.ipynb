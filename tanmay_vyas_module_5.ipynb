{
 "cells": [
  {
   "cell_type": "code",
   "execution_count": null,
   "id": "102bbf22",
   "metadata": {},
   "outputs": [],
   "source": [
    "# 1) Why Django should be used for web-development? Explain how you can create a project in Django?\n",
    "\n",
    "-> Django is the best framework for web applications, as it allows developers to use modules for faster development."
   ]
  },
  {
   "cell_type": "code",
   "execution_count": null,
   "id": "1b662e2e",
   "metadata": {},
   "outputs": [],
   "source": [
    "# 2) How to check installed version of django?\n",
    "\n",
    "-> pip freeze commend in commend prompt to check which version installed."
   ]
  },
  {
   "cell_type": "code",
   "execution_count": null,
   "id": "87117ff1",
   "metadata": {},
   "outputs": [],
   "source": [
    "# 3) Mention what command line can be used to load data into Django?\n",
    "\n",
    "-> to load data into Django you have to use the command line Django-admin.py loaddata. "
   ]
  },
  {
   "cell_type": "code",
   "execution_count": null,
   "id": "a3999a30",
   "metadata": {},
   "outputs": [],
   "source": [
    "# 4) Explain what does django-admin.py make messages command is used for?\n",
    "\n",
    "->Runs over the entire source tree of the current directory and pulls out all strings marked for translation. \n",
    "It creates (or updates) a message file in the conf/locale (in the Django tree) or locale (for project and application) directory\n"
   ]
  },
  {
   "cell_type": "code",
   "execution_count": null,
   "id": "c3cac541",
   "metadata": {},
   "outputs": [],
   "source": [
    "# 5) What is .Django URLs?make program to create django urls \n",
    "\n",
    "->In Django, views are Python functions which take a URL request as parameter and return an HTTP response or \n",
    "throw an exception like 404. Each view needs to be mapped to a corresponding URL pattern. \n",
    "This is done via a Python module called URLConf(URL configuration)\n",
    "\n",
    "from django.contrib import admin\n",
    "from django.urls import path, include\n",
    "\n",
    "urlpatterns = [\n",
    "    path('admin/', admin.site.urls),\n",
    "    path('', include('books.urls')),\n",
    "]\n",
    "\n"
   ]
  },
  {
   "cell_type": "code",
   "execution_count": null,
   "id": "7c0d28ca",
   "metadata": {},
   "outputs": [],
   "source": [
    "# 6) What is a QuerySet?Write program to create a new Post object in database.\n",
    "\n",
    "-> A queryset is simply a list of objects from the Django Models. \n",
    "When using the Django ORM creating a new row in the table is simply like creating a new object of Model class. \n",
    "Django ORM maps these Model objects to Relational database query. Any SQL query can be written easily as Django queryset.\n"
   ]
  },
  {
   "cell_type": "code",
   "execution_count": null,
   "id": "7a736821",
   "metadata": {},
   "outputs": [],
   "source": [
    "# 7) Mention what command line can be used to load data into Django?\n",
    "\n",
    "->To load data into Django you have to use the command line Django-admin.py loaddata.\n",
    "The command line will searches the data and loads the contents of the named fixtures into the database"
   ]
  },
  {
   "cell_type": "code",
   "execution_count": null,
   "id": "b78148b7",
   "metadata": {},
   "outputs": [],
   "source": [
    "# 8) Make Django application to demonstrate following things\n",
    "# o 1)There will be 2 modules(Admin,Product manager)\n",
    "# o 2) Admin can add product name (ex.Product id and product name) ex. (1, Samsung), (2, Apple)...etc. Data should store in Product_mst table with product id as primary key\n",
    "# o 3)Admin can add product subcategory details Like (Product price, product image,\n",
    "# o Product model, product Ram) data should store in Product_sub_cat table\n",
    "# o 4)Admin can get product name as foreign key from product_mst table in product_sub_category_details page\n",
    "# o 5)Admin can view, update and delete all registered details of product\n",
    "# o 6)product manager can search product on search bar and get all details about product\n",
    "\n",
    "class Admin(models.Model):\n",
    "    seller = models.ForeignKey(Seller,on_delete=models.CASCADE)  # Foreignkey\n",
    "    product_name = models.CharField(max_length=50)\n",
    "    product_description = models.TextField()\n",
    "    price = models.FloatField()\n",
    "    quantity = models.IntegerField(default=0)\n",
    "    discount = models.IntegerField()\n",
    "    image = models.FileField(upload_to='manageproduct',default='avatar.png')    \n",
    "    discounted_price = models.FloatField(blank=True,null=True)\n",
    "    first_name = models.CharField(max_length=50)\n",
    "\n",
    "    \n",
    "    def __str__(self):\n",
    "        return self.first_name\n",
    "\n",
    "\n"
   ]
  }
 ],
 "metadata": {
  "kernelspec": {
   "display_name": "Python 3 (ipykernel)",
   "language": "python",
   "name": "python3"
  },
  "language_info": {
   "codemirror_mode": {
    "name": "ipython",
    "version": 3
   },
   "file_extension": ".py",
   "mimetype": "text/x-python",
   "name": "python",
   "nbconvert_exporter": "python",
   "pygments_lexer": "ipython3",
   "version": "3.9.12"
  }
 },
 "nbformat": 4,
 "nbformat_minor": 5
}
