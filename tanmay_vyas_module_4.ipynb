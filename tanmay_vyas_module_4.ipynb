{
 "cells": [
  {
   "cell_type": "code",
   "execution_count": null,
   "id": "4692e595",
   "metadata": {},
   "outputs": [],
   "source": [
    "# (1)What is File function in python? What is keywords to create and write file.\n",
    "# A file object allows us to use, access and manipulate all the user accessible files. \n",
    "# for create new file we use 'x' and for write in created file then we use 'w'\n",
    "# X-> create new file\n",
    "# A-> append newline from last line ended\n",
    "# W-> write new lines\n",
    "# R-> read the file lines"
   ]
  },
  {
   "cell_type": "code",
   "execution_count": null,
   "id": "9fff594f",
   "metadata": {},
   "outputs": [],
   "source": [
    "#(2) Write a Python program to read an entire text file.\n",
    "f1=open('new.txt','r')\n",
    "print(f1.read())\n",
    "print(f1.readlines())\n",
    "f1.close()"
   ]
  },
  {
   "cell_type": "code",
   "execution_count": null,
   "id": "55617f40",
   "metadata": {},
   "outputs": [],
   "source": [
    "#(3)Write a Python program to append text to a file and display the text.\n",
    "# f1=open('newfile.txt','a')\n",
    "# f1.write('right now i am learning python from tops technologies')\n",
    "# f1.close()\n",
    "# f1=open('newfile.txt','r')\n",
    "# print(f1.read())\n",
    "# f1.close()\n",
    "f1=open('newfile.txt','r')\n",
    "print(f1.read())\n",
    "# f1.close()"
   ]
  },
  {
   "cell_type": "code",
   "execution_count": null,
   "id": "6a15a4fe",
   "metadata": {},
   "outputs": [],
   "source": [
    "#(4) Write a Python program to read first n lines of a file.\n",
    "f1=open('newfile.txt','r')\n",
    "# f1.read()\n",
    "f1.readlines()\n",
    "# f1.close()\n",
    "for i in list1[1]:\n",
    "    print(i,end='')\n"
   ]
  },
  {
   "cell_type": "code",
   "execution_count": null,
   "id": "feb53ec3",
   "metadata": {},
   "outputs": [],
   "source": [
    "#(5)Write a Python program to read last n lines of a file.\n",
    "f1=open('newfile.txt','r')\n",
    "list1=f1.readlines()\n",
    "\n",
    "for i in list1[-1]:\n",
    "    print(i,end='')\n",
    "\n"
   ]
  },
  {
   "cell_type": "code",
   "execution_count": null,
   "id": "203508e6",
   "metadata": {},
   "outputs": [],
   "source": [
    "#(6)Write a Python program to read a file line by line and store it into a list\n",
    "f1=open('newfile.txt','r')\n",
    "list1=f1.readlines()\n",
    "print(list1)"
   ]
  },
  {
   "cell_type": "code",
   "execution_count": null,
   "id": "5f701e21",
   "metadata": {},
   "outputs": [],
   "source": [
    "#(7)Write a Python program to read a file line by line store it into a variable.\n",
    "f1=open('newfile.txt','r')\n",
    "var1=f1.readlines()\n",
    "print(var1)\n",
    "\n",
    "for i in var1:\n",
    "    print(i)"
   ]
  },
  {
   "cell_type": "code",
   "execution_count": null,
   "id": "d44329d8",
   "metadata": {},
   "outputs": [],
   "source": [
    "#(8)Write a python program to find the longest words.\n",
    "# list1=['hello','world' ,'zpython devloper','ztops']\n",
    "# print((max(list1,key=len)),'is longest word')\n",
    "\n",
    "f1=open('newfile.txt','r')\n",
    "f2=f1.read()\n",
    "str1=str(f2)\n",
    "print(f2)\n",
    "l1=str1.split()\n",
    "print(max(l1,key=len))"
   ]
  },
  {
   "cell_type": "code",
   "execution_count": null,
   "id": "c4d9d7f9",
   "metadata": {},
   "outputs": [],
   "source": [
    "#(9) Write a Python program to count the number of lines in a text file.\n",
    "f1=open('newfile.txt','r')\n",
    "var1=len(f1.readlines())\n",
    "print(var1)\n"
   ]
  },
  {
   "cell_type": "code",
   "execution_count": null,
   "id": "29bcf4ee",
   "metadata": {},
   "outputs": [],
   "source": [
    "#(10)Write a Python program to count the frequency of words in a file.\n",
    "f1=open('newfile.txt','r')\n",
    "f2=f1.read()\n",
    "str1=str(f2)\n",
    "print(f2)\n",
    "l1=str1.split()\n",
    "print(l1)\n",
    "temp=''\n",
    "for i in l1:\n",
    "    if i in temp:\n",
    "        pass\n",
    "    else:\n",
    "        temp+=i \n",
    "        print(i,'=',l1.count(i),end=' , ')\n"
   ]
  },
  {
   "cell_type": "code",
   "execution_count": null,
   "id": "838e7204",
   "metadata": {},
   "outputs": [],
   "source": [
    "#(11) Write a Python program to write a list to a file.\n",
    "# f1=open('newfile.txt','a')\n",
    "# f1.write('[1,2,3,4,5]')\n",
    "# print(f1)\n",
    "# f1.close()\n",
    "f1=open('newfile.txt','r')\n",
    "print(f1.read())"
   ]
  },
  {
   "cell_type": "code",
   "execution_count": null,
   "id": "7cb29985",
   "metadata": {},
   "outputs": [],
   "source": [
    "#(12)Write a Python program to copy the contents of a file to another file.\n",
    "f1=open('newfile.txt','r')\n",
    "old_file=f1.readlines()\n",
    "# print(old_file)\n",
    "# f1.close()\n",
    "f2=open('another_file.txt','w')\n",
    "f2.write(f1.read())\n",
    "f2=open('newfile.txt','r')\n",
    "print(f2.read())\n",
    "f2.close()"
   ]
  },
  {
   "cell_type": "code",
   "execution_count": null,
   "id": "ae8f7155",
   "metadata": {},
   "outputs": [],
   "source": [
    "# (13) Explain Exception handling? What is an Error in Python?\n",
    "# when we write a code we know/thought where is the error occers so \n",
    "# we use exception handling(try & except)\n",
    "# to resolve the error without stoping compiler,because if error on first line then code stops on \n",
    "# first line and code excution break.\n",
    "# errors apart from SyntexError are including exception handling.\n",
    "# major types of error:-\n",
    "#    1 NameError\n",
    "#    2 TypeError\n",
    "#    3 ValueError\n",
    "#    4 IndexError\n",
    "#    5 KeyError\n",
    "#    6 ZeroDivisionError\n",
    "  \n"
   ]
  },
  {
   "cell_type": "code",
   "execution_count": null,
   "id": "94efe9d7",
   "metadata": {},
   "outputs": [],
   "source": [
    "#(14)How many except statements can a try-except block have? Name Some built-in exception classes:\n",
    "# try and except have multiple block in code just we use one try boc then except boc.\n",
    "# below exception class:-\n",
    "#    1 NameError\n",
    "#    2 TypeError\n",
    "#    3 ValueError\n",
    "#    4 IndexError\n",
    "#    5 KeyError\n",
    "#    6 ZeroDivisionError\n",
    "# if we dont know the error then we use except block for rest of errors."
   ]
  },
  {
   "cell_type": "code",
   "execution_count": null,
   "id": "0a9050cb",
   "metadata": {},
   "outputs": [],
   "source": [
    "#(15) When will the else part of try-except-else be executed?\n",
    "# the else part is excuted when no exception occers. "
   ]
  },
  {
   "cell_type": "code",
   "execution_count": null,
   "id": "24da8338",
   "metadata": {},
   "outputs": [],
   "source": [
    "#(16) Can one block of except statements handle multiple exception?\n",
    "# yes one block of except statements handle multiple exception \n",
    "# in this there is IndexError occers because in list1 has 3 elements whick index position is [0,1,2]\n",
    "# but we use one default exception block to solve this errer\n",
    "try:\n",
    "    a=int(input('enter the input'))\n",
    "    print(10/a)\n",
    "    list1=[1,2,3]\n",
    "    for i in range(8):\n",
    "        print(list1[i])\n",
    "# except ValueError:\n",
    "#     print('value')        \n",
    "except:\n",
    "    print('except block is run')"
   ]
  },
  {
   "cell_type": "code",
   "execution_count": null,
   "id": "aed85969",
   "metadata": {},
   "outputs": [],
   "source": [
    "#(17)When is the finally block executed?\n",
    "# it will excute always/everytime with or without exception raised.\n",
    "# we use it for utility tasks"
   ]
  },
  {
   "cell_type": "code",
   "execution_count": null,
   "id": "513349c5",
   "metadata": {},
   "outputs": [],
   "source": [
    "#(18) What happens when „1‟== 1 is executed?\n",
    "\"1\"==1\n",
    "Ans->false"
   ]
  },
  {
   "cell_type": "code",
   "execution_count": null,
   "id": "c575697e",
   "metadata": {},
   "outputs": [],
   "source": [
    "#(19) How Do You Handle Exceptions With Try/Except/Finally In Python? Explain with coding snippets.\n",
    "# i comment one by one both exception boc finally boc is always run.\n",
    "try:\n",
    "    a=int(input('enter the input'))\n",
    "    print(10/a)\n",
    "    list1=[1,2,3]\n",
    "    for i in range(8):\n",
    "        print(list1[i])\n",
    "except ValueError:\n",
    "    print('value')        \n",
    "# except:\n",
    "#     print('except block is run')\n",
    "finally:\n",
    "    print('finally block is run')"
   ]
  },
  {
   "cell_type": "code",
   "execution_count": null,
   "id": "6368be3f",
   "metadata": {},
   "outputs": [],
   "source": [
    "#(20) Write python program that user to enter only odd numbers, else will raise an exception.\n",
    "class EvenError(Exception):\n",
    "    pass\n",
    "\n",
    "a= int(input())\n",
    "if a%2==0:\n",
    "    print('number is right')\n",
    "else:\n",
    "    raise EvenError('enter only odd number')\n",
    "\n",
    "\n"
   ]
  },
  {
   "cell_type": "code",
   "execution_count": null,
   "id": "42f6ad63",
   "metadata": {},
   "outputs": [],
   "source": [
    "#(21)What are oops concepts? Is multiple inheritance supported in java\n",
    "# opps means object oriented programs. which includes class,method,objects=behaviour+attributes\n",
    "# opps has 5 concepts:\n",
    "#     1 class & object\n",
    "#     2 Inheritence\n",
    "#     3 polymorphism\n",
    "#     4 encapsulation\n",
    "#     5 abstraction\n",
    "\n",
    "# there are 5 types of inheritence:\n",
    "#     1 single\n",
    "#     2 multiple\n",
    "#     3 multilevel\n",
    "#     4 hirachical\n",
    "#     5 hybrid"
   ]
  },
  {
   "cell_type": "code",
   "execution_count": null,
   "id": "ab837296",
   "metadata": {},
   "outputs": [],
   "source": [
    "#(22) How to Define a Class in Python? What Is Self? Give An Example Of A Python Class\n",
    "# write class and class name then semicolon to define class \n",
    "# self points the current instance of the class \n",
    "# self uses to access variables which belongs to class.\n",
    "\n",
    "class students:\n",
    "    name_of_school='LP Savani'\n",
    "    def __init__(self,std,percentage):\n",
    "        self.std=std\n",
    "        self.percentage=percentage\n",
    "        \n",
    "chirag=students(12,66)\n",
    "chirag.name_of_school\n",
    "chirag.percentage\n",
    "chirag.std\n",
    "tanmay=students(10,89)\n",
    "tanmay.name_of_school\n",
    "tanmay.percentage\n",
    "tanmay.std"
   ]
  },
  {
   "cell_type": "code",
   "execution_count": null,
   "id": "1c98f10e",
   "metadata": {},
   "outputs": [],
   "source": [
    "#(23)Write a Python class named Rectangle constructed by a length and width andut\n",
    "#a method which will compute the area of a rectangle\n",
    "\n",
    "class rectangle:\n",
    "    def __init__(self,length,width):\n",
    "        self.length=length\n",
    "        self.width=width\n",
    "    def Area_of_rectengle(self):\n",
    "        area=self.length*self.width\n",
    "        print('area of rectangle is ',area)\n",
    "    \n",
    "obj1=rectangle(9,8)\n",
    "obj1.Area_of_rectengle()"
   ]
  },
  {
   "cell_type": "code",
   "execution_count": null,
   "id": "acc50a2d",
   "metadata": {},
   "outputs": [],
   "source": [
    "#(24)Write a Python class named Circle constructed by a radius and two methods\n",
    "#which will compute the area and the perimeter of a circle\n",
    "# area=PI*r*r\n",
    "# perimeter c = 2*PI*r\n",
    "PI=3.14\n",
    "class circle:\n",
    "    def __init__(self,r):\n",
    "        self.r=r\n",
    "        \n",
    "    def area(self,r):\n",
    "        area=PI*r*r\n",
    "        print('area of circle is ',area)\n",
    "    def perimeter(self,r):\n",
    "        perimeter=2*PI*r\n",
    "        print('perimeter of circle is',perimeter)\n",
    "        \n",
    "obj1=circle(10)\n",
    "obj1.area(5)\n",
    "obj1.perimeter(10)"
   ]
  }
 ],
 "metadata": {
  "kernelspec": {
   "display_name": "Python 3 (ipykernel)",
   "language": "python",
   "name": "python3"
  },
  "language_info": {
   "codemirror_mode": {
    "name": "ipython",
    "version": 3
   },
   "file_extension": ".py",
   "mimetype": "text/x-python",
   "name": "python",
   "nbconvert_exporter": "python",
   "pygments_lexer": "ipython3",
   "version": "3.9.12"
  }
 },
 "nbformat": 4,
 "nbformat_minor": 5
}
